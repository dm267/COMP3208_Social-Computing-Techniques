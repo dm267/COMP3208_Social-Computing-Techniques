{
 "cells": [
  {
   "cell_type": "code",
   "execution_count": 6,
   "metadata": {},
   "outputs": [],
   "source": [
    "# Creates a database, clears if exists and fills with training data\n",
    "import sqlite3\n",
    "import codecs\n",
    "import random\n",
    "\n",
    "# Connect to database (using sqlite3 lib built into python)\n",
    "conn = sqlite3.connect( 'comp3208.db')\n",
    "\n",
    "# Read in training data file\n",
    "readHandle = codecs.open( 'comp3208-train-small.csv', 'r', 'utf-8', errors = 'replace' )\n",
    "listLines = readHandle.readlines()\n",
    "readHandle.close()\n",
    "\n",
    "# Creates a table for training data, deletes all data\n",
    "c = conn.cursor()\n",
    "c.execute( 'CREATE TABLE IF NOT EXISTS training_table (UserID INT, ItemID INT, Rating FLOAT, PredRating FLOAT)' )\n",
    "conn.commit()\n",
    "c.execute( 'DELETE FROM training_table' )\n",
    "conn.commit()\n",
    "# Inserts data from csv file into training data table (userid, itemid, rating, timestamp - currently not included)\n",
    "for strLine in listLines :\n",
    "    if len(strLine.strip()) > 0 :\n",
    "        listParts = strLine.strip().split(',')\n",
    "        if len(listParts) == 4 :\n",
    "            # Insert training set into table with an initial predicted rating of 0\n",
    "            c.execute( 'INSERT INTO training_table VALUES (?,?,?,?)', (listParts[0], listParts[1], listParts[2], 0) )\n",
    "        else :\n",
    "            raise Exception( 'failed to parse csv : ' + repr(listParts) )\n",
    "conn.commit()\n",
    "\n",
    "# Creates an index of the user ID and item ID\n",
    "c.execute( 'CREATE INDEX IF NOT EXISTS training_table_index on training_table (UserID, ItemID)' )\n",
    "conn.commit()"
   ]
  },
  {
   "cell_type": "code",
   "execution_count": 7,
   "metadata": {},
   "outputs": [],
   "source": [
    "# Inserts testing data into a table in database\n",
    "\n",
    "# Reads in data \n",
    "readHandle = codecs.open( 'comp3208-test-small.csv', 'r', 'utf-8', errors = 'replace' )\n",
    "listLines = readHandle.readlines()\n",
    "readHandle.close()\n",
    "\n",
    "# Create and clear table for testing data\n",
    "c = conn.cursor()\n",
    "c.execute( 'CREATE TABLE IF NOT EXISTS testing_table (UserID INT, ItemID INT, Rating FLOAT, PredRating FLOAT)' )\n",
    "conn.commit()\n",
    "c.execute( 'DELETE FROM testing_table' )\n",
    "conn.commit()\n",
    "# Inserts data from csv file into testing data table (userid, itemid, timestamp - currently not used)\n",
    "for strLine in listLines :\n",
    "    if len(strLine.strip()) > 0 :\n",
    "        listParts = strLine.strip().split(',')\n",
    "        if len(listParts) == 3 :\n",
    "            # Insert training set into table with a rating and predicted rating of 0\n",
    "            c.execute( 'INSERT INTO testing_table VALUES (?,?,?,?)', (listParts[0], listParts[1], 0, 0) )\n",
    "        else :\n",
    "            raise Exception( 'failed to parse csv : ' + repr(listParts) )\n",
    "conn.commit()\n",
    "\n",
    "# Creates an index of the user ID and item ID\n",
    "c.execute( 'CREATE INDEX IF NOT EXISTS testing_table_index on testing_table (UserID, ItemID)' )\n",
    "conn.commit()"
   ]
  },
  {
   "cell_type": "code",
   "execution_count": null,
   "metadata": {},
   "outputs": [
    {
     "name": "stdout",
     "output_type": "stream",
     "text": [
      "MSE for random prediction: 3.5032546495524066\n"
     ]
    }
   ],
   "source": [
    "# Compute MSE of SQL data\n",
    "c.execute('SELECT AVG(ABS(Rating-PredRating)) FROM training_table WHERE PredRating IS NOT NULL')\n",
    "row = c.fetchone()\n",
    "nMSE = float( row[0] )\n",
    "\n",
    "print('MSE for random prediction: ' + str(nMSE) )\n",
    "\n",
    "# Compute MSE against a fixed average rating using SQL\n",
    "c.execute('SELECT AVG(ABS(Rating-3.53)) FROM training_table WHERE PredRating IS NOT NULL')\n",
    "row = c.fetchone()\n",
    "nMSE = float( row[0] )\n",
    "\n",
    "print('MSE for user average of 3.53 prediction: ' + str(nMSE) )\n",
    "\n",
    "# Close database connection\n",
    "c.close()\n",
    "conn.close()\n"
   ]
  },
  {
   "cell_type": "code",
   "execution_count": null,
   "metadata": {},
   "outputs": [],
   "source": [
    "c.execute('SELECT * FROM training_table')\n",
    "print(c.fetchone())"
   ]
  },
  {
   "cell_type": "code",
   "execution_count": null,
   "metadata": {},
   "outputs": [],
   "source": []
  },
  {
   "cell_type": "code",
   "execution_count": null,
   "metadata": {},
   "outputs": [],
   "source": []
  },
  {
   "cell_type": "code",
   "execution_count": null,
   "metadata": {},
   "outputs": [],
   "source": []
  }
 ],
 "metadata": {
  "kernelspec": {
   "display_name": "Python 3",
   "language": "python",
   "name": "python3"
  },
  "language_info": {
   "codemirror_mode": {
    "name": "ipython",
    "version": 3
   },
   "file_extension": ".py",
   "mimetype": "text/x-python",
   "name": "python",
   "nbconvert_exporter": "python",
   "pygments_lexer": "ipython3",
   "version": "3.8.5"
  }
 },
 "nbformat": 4,
 "nbformat_minor": 5
}
